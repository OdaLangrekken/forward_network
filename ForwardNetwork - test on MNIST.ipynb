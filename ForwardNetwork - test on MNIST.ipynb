{
 "cells": [
  {
   "cell_type": "code",
   "execution_count": 10,
   "id": "567abab0",
   "metadata": {},
   "outputs": [],
   "source": [
    "import numpy as np\n",
    "import time\n",
    "from forward_network import ForwardNetwork           "
   ]
  },
  {
   "cell_type": "code",
   "execution_count": 11,
   "id": "b712fb1c",
   "metadata": {},
   "outputs": [],
   "source": [
    "from tensorflow.keras.datasets import mnist\n",
    "import matplotlib.pyplot as plt\n",
    "(X_train, Y_train), (X_test, Y_test) = mnist.load_data()"
   ]
  },
  {
   "cell_type": "code",
   "execution_count": 12,
   "id": "c6063c94",
   "metadata": {},
   "outputs": [
    {
     "data": {
      "image/png": "[encoded data removed]",
      "text/plain": [
       "<Figure size 432x288 with 9 Axes>"
      ]
     },
     "metadata": {},
     "output_type": "display_data"
    }
   ],
   "source": [
    "fig = plt.figure()\n",
    "for i in range(9):\n",
    "    plt.subplot(3, 3, i+1)\n",
    "    plt.tight_layout()\n",
    "    plt.imshow(X_train[i], cmap='gray', interpolation='none')\n",
    "    plt.title('Digit: {}'.format(Y_train[i]))\n",
    "    plt.xticks([])\n",
    "    plt.yticks([])\n",
    "X_train = X_train\n",
    "Y_train = Y_train\n",
    "X_train.shape\n",
    "\n",
    "X_train = X_train.reshape(60000, 784)\n",
    "X_train = X_train.astype('float32')\n",
    "X_train /= 255\n",
    "\n",
    "X_test = X_test.reshape(10000, 784)\n",
    "X_test = X_test.astype('float32')\n",
    "X_test /= 255"
   ]
  },
  {
   "cell_type": "code",
   "execution_count": 13,
   "id": "a94ecafe",
   "metadata": {},
   "outputs": [
    {
     "data": {
      "text/plain": [
       "array([[0., 0., 0., ..., 0., 0., 0.],\n",
       "       [1., 0., 0., ..., 0., 0., 0.],\n",
       "       [0., 0., 0., ..., 0., 0., 0.],\n",
       "       ...,\n",
       "       [0., 0., 0., ..., 0., 0., 0.],\n",
       "       [0., 0., 0., ..., 0., 0., 0.],\n",
       "       [0., 0., 0., ..., 0., 1., 0.]])"
      ]
     },
     "execution_count": 13,
     "metadata": {},
     "output_type": "execute_result"
    }
   ],
   "source": [
    "# Convert y to arrays of 1 and 0\n",
    "y_new = np.empty((60000, 10))\n",
    "\n",
    "for i in range(len(Y_train)):\n",
    "    for j in range(10):\n",
    "        y_new[i,j] = Y_train[i] == j\n",
    "y_new"
   ]
  },
  {
   "cell_type": "code",
   "execution_count": null,
   "id": "eb384233",
   "metadata": {
    "scrolled": true
   },
   "outputs": [
    {
     "name": "stdout",
     "output_type": "stream",
     "text": [
      "Epochs done: 0/1000\n",
      "Epochs done: 100/1000\n",
      "Epochs done: 200/1000\n",
      "Epochs done: 300/1000\n",
      "Epochs done: 400/1000\n",
      "Epochs done: 500/1000\n",
      "Epochs done: 600/1000\n",
      "Epochs done: 700/1000\n",
      "Epochs done: 800/1000\n"
     ]
    }
   ],
   "source": [
    "network = ForwardNetwork(X_train.T, y_new.T)        \n",
    "network.add_layer(20)\n",
    "network.add_layer(10)\n",
    "network.train(1000, 1, 10)\n"
   ]
  },
  {
   "cell_type": "code",
   "execution_count": null,
   "id": "c1c138a9",
   "metadata": {},
   "outputs": [],
   "source": [
    "y_pred_train = network.predict(X_train.T)\n",
    "y_pred_test = network.predict(X_test.T)\n",
    "train_acc = network.accuracy(y_pred_train, Y_train)\n",
    "test_acc = network.accuracy(y_pred_test, Y_test)\n",
    "\n",
    "print(train_acc)\n",
    "print(test_acc)"
   ]
  },
  {
   "cell_type": "code",
   "execution_count": null,
   "id": "5eda8e61",
   "metadata": {},
   "outputs": [],
   "source": [
    "X_test = X_test.reshape(10000, 28, 28)\n",
    "fig = plt.figure()\n",
    "for i in range(9):\n",
    "    plt.subplot(3, 3, i+1)\n",
    "    plt.tight_layout()\n",
    "    plt.imshow(X_test[i], cmap='gray', interpolation='none')\n",
    "    plt.title('Digit: {}, Pred: {}'.format(Y_test[i], y_pred_test[i]))\n",
    "    plt.xticks([])\n",
    "    plt.yticks([])"
   ]
  },
  {
   "cell_type": "code",
   "execution_count": null,
   "id": "14731d0f",
   "metadata": {},
   "outputs": [],
   "source": []
  }
 ],
 "metadata": {
  "kernelspec": {
   "display_name": "tensorflow",
   "language": "python",
   "name": "tensorflow"
  },
  "language_info": {
   "codemirror_mode": {
    "name": "ipython",
    "version": 3
   },
   "file_extension": ".py",
   "mimetype": "text/x-python",
   "name": "python",
   "nbconvert_exporter": "python",
   "pygments_lexer": "ipython3",
   "version": "3.9.7"
  }
 },
 "nbformat": 4,
 "nbformat_minor": 5
}
